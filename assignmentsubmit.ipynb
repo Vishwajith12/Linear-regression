{
 "cells": [
  {
   "cell_type": "code",
   "execution_count": 5,
   "metadata": {},
   "outputs": [],
   "source": [
    "import pandas as pd\n",
    "import numpy as np\n",
    "import math\n",
    "from tqdm import tqdm\n",
    "from sklearn.model_selection import train_test_split\n",
    "import matplotlib.pyplot as plt\n",
    "import random\n"
   ]
  },
  {
   "cell_type": "code",
   "execution_count": 6,
   "metadata": {},
   "outputs": [],
   "source": [
    "def dataset_reader(datafile):\n",
    "    \n",
    "    return pd.read_csv(datafile)"
   ]
  },
  {
   "cell_type": "code",
   "execution_count": 7,
   "metadata": {},
   "outputs": [],
   "source": [
    "df1=dataset_reader('housing.csv')\n",
    "df2=dataset_reader('concreteData.csv')\n",
    "df3=dataset_reader('yachtData.csv')"
   ]
  },
  {
   "cell_type": "code",
   "execution_count": 69,
   "metadata": {},
   "outputs": [],
   "source": [
    "class LinearRegression:\n",
    "    \n",
    "    def __init__(self,X,y,learningRate,tolerance,lamda,maxIteration=50000,error='rmse',gd=False,sgd=False):\n",
    "        \n",
    "        self.X=X\n",
    "        self.y=y\n",
    "        self.learningRate=learningRate\n",
    "        self.tolerance=tolerance\n",
    "        self.maxIteration=maxIteration\n",
    "        self.error=error\n",
    "        self.gd=gd\n",
    "        self.lamda=lamda\n",
    "        self.sgd=sgd\n",
    "        \n",
    "    def splitTraintest(self):\n",
    "        \n",
    "        X_train,X_test,y_train,y_test=train_test_split(self.X,self.y,test_size=0.2,random_state=0)\n",
    "        \n",
    "        return  X_train,X_test,y_train,y_test\n",
    "    \n",
    "    def add_x0(self,X):\n",
    "        \n",
    "        return np.column_stack([np.ones([X.shape[0],1]),X])\n",
    "    \n",
    "    def normalize(self,X):\n",
    "        \n",
    "        mean=np.mean(X)\n",
    "        std=np.std(X)\n",
    "        X_norm=(X-mean)/std\n",
    "        X_norm=self.add_x0(X_norm)\n",
    "        \n",
    "        return X_norm,mean,std\n",
    "    \n",
    "    def normalizeTestData(self,X_test,train_mean,train_std):\n",
    "        \n",
    "        X_norm=(X_test-train_mean)/train_std\n",
    "        X_norm=self.add_x0(X_norm)\n",
    "        \n",
    "        return X_norm\n",
    "    \n",
    "    def rank(self,X,eps=1e-12):\n",
    "        \n",
    "        u,s,vh=np.linalg.svd(X)\n",
    "        \n",
    "        return len([x for x in s if abs(s) >eps])\n",
    "    \n",
    "    def checkMatrix(self,X):\n",
    "        \n",
    "        X_rank=np.linalg.matrix_rank(X)\n",
    "        \n",
    "        if X_rank==min(X.shape[0],X.shape[1]):\n",
    "            \n",
    "            self.full_rank=True\n",
    "            print(\"Data is Full Rank\")\n",
    "            \n",
    "        else:\n",
    "            self.full_rank=False\n",
    "            print(\"Data is not Full Rank\")\n",
    "            \n",
    "    def checkInvertibility(self,X):\n",
    "        if X.shape[0]<X.shape[1]:\n",
    "                self.lowRank=True\n",
    "                print(\"Matrix is Low Rank\")\n",
    "                \n",
    "        else:\n",
    "                self.lowRank=False\n",
    "                print(\"Matrix is not Low Rank\")\n",
    "                \n",
    "    def closedFormSolution(self,X,y):\n",
    "            \n",
    "            sizeofi=X.T.dot(X)\n",
    "            identity=np.eye(sizeofi.shape[0],sizeofi.shape[1])\n",
    "            self.theta=np.linalg.inv(X.T.dot(X)+self.lamda*identity).dot(X.T).dot(y)\n",
    "            return self.theta\n",
    "    \n",
    "    \n",
    "    def gradientDescent(self,X,y):\n",
    "        \n",
    "        self.errors=[]\n",
    "        last_error=float('inf')\n",
    "        \n",
    "        for t in tqdm(range(self.maxIteration)):\n",
    "            self.theta=self.theta-self.learningRate * (self.cost_derivative(X,y)+(self.lamda*self.theta))\n",
    "            \n",
    "            if self.error=='rmse':\n",
    "                current_error=self.rmse(X,y)\n",
    "            else:\n",
    "                current_error=self.sse(X,y)\n",
    "                \n",
    "            error_difference=last_error-current_error\n",
    "            last_error=current_error\n",
    "        \n",
    "            self.errors.append(current_error)\n",
    "           \n",
    "            if error_difference<self.tolerance:\n",
    "                print(\"The model stopped learning - Converged\")\n",
    "                break\n",
    "                \n",
    "        return  self.plot_function(self.errors)\n",
    "    \n",
    "    def stochasticgradientDescent(self,X,y):\n",
    "        \n",
    "        self.errors=[]\n",
    "        last_error=float('inf')\n",
    "        \n",
    "        for t in tqdm(range(self.maxIteration)):\n",
    "            index=[random.randint(0,X.shape[0]-1) for i in np.arange(1,100,1)]\n",
    "            X=X[index]\n",
    "            y=y[index]\n",
    "            \n",
    "            b=0.0000001\n",
    "            c=0.001\n",
    "        \n",
    "            alphat=b/(t+c)\n",
    "           \n",
    "            self.theta=self.theta-alphat * (self.cost_derivative(X,y)+(self.lamda*self.theta))\n",
    "            \n",
    "            if self.error=='rmse':\n",
    "                current_error=self.rmse(X,y)\n",
    "            else:\n",
    "                current_error=self.sse(X,y)\n",
    "                \n",
    "            error_difference=last_error-current_error\n",
    "            last_error=current_error\n",
    "        \n",
    "            self.errors.append(current_error)\n",
    "           \n",
    "            if abs(error_difference)<self.tolerance:\n",
    "                print(\"The model stopped learning - Converged\")\n",
    "                break\n",
    "        return  self.plot_function(self.errors)\n",
    "    \n",
    "    def predict(self,X):\n",
    "        \n",
    "        return X.dot(self.theta)\n",
    "    \n",
    "    def sse(self,X,y):\n",
    "        \n",
    "        y_hat=self.predict(X)\n",
    "        return((y_hat-y)**2).sum()\n",
    "    \n",
    "    def rmse(self,X,y):\n",
    "        \n",
    "        return np.sqrt(self.sse(X,y)/X.shape[0])\n",
    "    \n",
    "    def cost_derivative(self,X,y):\n",
    "        y_hat=self.predict(X)\n",
    "        grad=(y_hat-y).dot(X)\n",
    "        return grad\n",
    "    \n",
    "    def plot_function(self,datatoplot):\n",
    "        \n",
    "        return plt.plot(datatoplot)\n",
    "    \n",
    "    def run_model(self):\n",
    "        \n",
    "        self.X_train,self.X_test,self.y_train,self.y_test=self.splitTraintest()\n",
    "        \n",
    "        self.X_train,self.mean,self.std=self.normalize(self.X_train)\n",
    "        self.X_test=self.normalizeTestData(self.X_test,self.mean,self.std)\n",
    "        \n",
    "        self.checkMatrix(self.X_train)\n",
    "        self.checkInvertibility(self.X_train)\n",
    "        \n",
    "        if self.full_rank and not self.lowRank and self.X_train.shape[0]<=10000 and not self.gd and not self.sgd:\n",
    "            self.theta=self.closedFormSolution(self.X_train,self.y_train)\n",
    "            \n",
    "        elif self.gd:\n",
    "            self.theta=np.ones(self.X_train.shape[1],dtype=np.float64)*0\n",
    "            self.gradientDescent(self.X_train,self.y_train)\n",
    "            \n",
    "        elif self.sgd:\n",
    "            self.theta=np.ones(self.X_train.shape[1],dtype=np.float64)*0\n",
    "            self.stochasticgradientDescent(self.X_train,self.y_train)\n",
    "            \n",
    "        print(self.theta)\n",
    "        \n",
    "      \n",
    "    \n",
    "        "
   ]
  },
  {
   "cell_type": "code",
   "execution_count": 70,
   "metadata": {},
   "outputs": [],
   "source": [
    "regression=LinearRegression(df1.values[:,0:-1],df1.values[:,-1],learningRate=0.00001,tolerance=0.0000001,lamda=1,error='rmse',sgd=True)"
   ]
  },
  {
   "cell_type": "code",
   "execution_count": 71,
   "metadata": {},
   "outputs": [
    {
     "name": "stderr",
     "output_type": "stream",
     "text": [
      "  1%|          | 280/50000 [00:00<00:18, 2723.33it/s]"
     ]
    },
    {
     "name": "stdout",
     "output_type": "stream",
     "text": [
      "Data is Full Rank\n",
      "Matrix is not Low Rank\n"
     ]
    },
    {
     "name": "stderr",
     "output_type": "stream",
     "text": [
      " 18%|█▊        | 8911/50000 [00:02<00:13, 3159.92it/s]\n"
     ]
    },
    {
     "name": "stdout",
     "output_type": "stream",
     "text": [
      "The model stopped learning - Converged\n",
      "[ 0.22406179 -0.10524228 -0.08686168 -0.09293171 -0.10809833 -0.10740399\n",
      " -0.09824598 -0.01247339 -0.10207274 -0.09648295  0.46065139 -0.08066379\n",
      "  0.46209884 -0.09235245]\n"
     ]
    },
    {
     "data": {
      "image/png": "[encoded data removed]",
      "text/plain": [
       "<Figure size 432x288 with 1 Axes>"
      ]
     },
     "metadata": {
      "needs_background": "light"
     },
     "output_type": "display_data"
    }
   ],
   "source": [
    "regression.run_model()"
   ]
  },
  {
   "cell_type": "code",
   "execution_count": 72,
   "metadata": {},
   "outputs": [
    {
     "data": {
      "text/plain": [
       "45948.10720306067"
      ]
     },
     "execution_count": 72,
     "metadata": {},
     "output_type": "execute_result"
    }
   ],
   "source": [
    "regression.sse(regression.X_test,regression.y_test)"
   ]
  },
  {
   "cell_type": "code",
   "execution_count": 73,
   "metadata": {},
   "outputs": [
    {
     "data": {
      "text/plain": [
       "21.32912924818426"
      ]
     },
     "execution_count": 73,
     "metadata": {},
     "output_type": "execute_result"
    }
   ],
   "source": [
    "regression.rmse(regression.X_test,regression.y_test)"
   ]
  },
  {
   "cell_type": "code",
   "execution_count": null,
   "metadata": {},
   "outputs": [],
   "source": []
  },
  {
   "cell_type": "code",
   "execution_count": 74,
   "metadata": {},
   "outputs": [
    {
     "data": {
      "text/plain": [
       "array([2.33167856, 2.35577231, 3.50446614, 2.36266749, 3.56175232,\n",
       "       2.42508791, 2.43994787, 3.54313666, 2.56870514, 2.5051025 ,\n",
       "       2.31581625, 2.42643776, 2.4333001 , 2.43428256, 2.41859033,\n",
       "       2.50358896, 3.42007232, 2.24498867, 1.76271149, 2.35765057,\n",
       "       2.34561133, 3.54363276, 3.56612595, 2.67333973, 2.22055378,\n",
       "       3.31757125, 2.44410016, 3.4448805 , 2.36253924, 2.43316701,\n",
       "       3.55436789, 2.83043629, 2.02466496, 2.34519216, 2.35083562,\n",
       "       3.42632756, 2.43802481, 2.46171505, 2.15665622, 2.70536699,\n",
       "       2.39214278, 2.19924959, 3.29479508, 2.4064981 , 2.70910086,\n",
       "       2.24008146, 2.31202632, 2.73904958, 2.30339768, 2.68530831,\n",
       "       2.71612726, 2.59330127, 2.43820287, 2.0252862 , 2.82564273,\n",
       "       2.45338178, 2.41885641, 2.41158979, 3.31050519, 2.0636821 ,\n",
       "       2.73950923, 2.16325257, 3.50463033, 2.55317728, 2.1594953 ,\n",
       "       2.49191662, 2.45560004, 2.86206289, 2.37988053, 2.66311823,\n",
       "       2.7387015 , 2.50718875, 2.5998723 , 2.18347217, 2.41244013,\n",
       "       2.38835457, 3.46505983, 2.69343474, 2.71586798, 2.3408889 ,\n",
       "       2.48947462, 2.37582448, 2.43046656, 3.54145514, 2.36926127,\n",
       "       2.76060856, 2.33923351, 2.61599952, 2.29626518, 2.14724467,\n",
       "       3.19251155, 3.3560505 , 2.16771454, 3.42974496, 2.09248017,\n",
       "       2.36906318, 2.22783804, 3.31091526, 2.2977031 , 2.71151389,\n",
       "       2.687702  ])"
      ]
     },
     "execution_count": 74,
     "metadata": {},
     "output_type": "execute_result"
    }
   ],
   "source": [
    "regression.predict(regression.X_test)"
   ]
  },
  {
   "cell_type": "raw",
   "metadata": {},
   "source": []
  }
 ],
 "metadata": {
  "kernelspec": {
   "display_name": "Python 3",
   "language": "python",
   "name": "python3"
  },
  "language_info": {
   "codemirror_mode": {
    "name": "ipython",
    "version": 3
   },
   "file_extension": ".py",
   "mimetype": "text/x-python",
   "name": "python",
   "nbconvert_exporter": "python",
   "pygments_lexer": "ipython3",
   "version": "3.8.5"
  }
 },
 "nbformat": 4,
 "nbformat_minor": 4
}
